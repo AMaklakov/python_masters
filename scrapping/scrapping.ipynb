{
 "cells": [
  {
   "cell_type": "code",
   "execution_count": 73,
   "metadata": {},
   "outputs": [],
   "source": [
    "import requests\n",
    "html = requests.get('https://afisha.tut.by/day/film/2020-11-01/2020-11-28/')"
   ]
  },
  {
   "cell_type": "code",
   "execution_count": 74,
   "metadata": {},
   "outputs": [],
   "source": [
    "from bs4 import BeautifulSoup\n",
    "\n",
    "soup = BeautifulSoup(html.content, 'html.parser')"
   ]
  },
  {
   "cell_type": "code",
   "execution_count": 75,
   "metadata": {},
   "outputs": [],
   "source": [
    "import re\n",
    "\n",
    "def get_film_data(filmUrl):\n",
    "    html = requests.get(filmUrl)\n",
    "    soup = BeautifulSoup(html.content, 'html.parser')\n",
    "    \n",
    "    description = soup.find(id='event-description')\n",
    "    if description:\n",
    "        description = description.contents[2].strip()\n",
    "    \n",
    "    genres = soup.find('td', class_='genre')\n",
    "    if genres:\n",
    "        genres = genres.select('a', class_='genre');\n",
    "        if genres:\n",
    "            genres = list(map(lambda x: x.text, genres))\n",
    "    \n",
    "    year = soup.find('td', class_='year')\n",
    "    if year:\n",
    "        year=year.text\n",
    "    \n",
    "    country = soup.find('td', class_='author')\n",
    "    if country:\n",
    "        country = country.text.strip()\n",
    "    \n",
    "    duration = soup.find('td', class_='duration')\n",
    "    if duration:\n",
    "        duration_re = re.compile('([0-9]+)')\n",
    "        duration = re.search(duration_re, duration.text.strip()).group(1)\n",
    "    \n",
    "    producer_re = re.compile('Режиссер: (.*)')\n",
    "    producer = soup.find(text=producer_re) \n",
    "    if producer:\n",
    "        producer = re.search(producer_re, producer).group(1)\n",
    "\n",
    "    actors_re = re.compile('В ролях: (.*)')\n",
    "    actors = soup.find_all('p')\n",
    "    actors = [p for p in actors if p.find(text=actors_re)]; # find if there a valid p\n",
    "    if len(actors):\n",
    "        actors = actors[0].text\n",
    "        actors_str = re.search(actors_re, actors).group(1)\n",
    "        actors = list(map(lambda x: x.strip(), actors_str.split(',')))\n",
    "    \n",
    "    rating = soup.find(class_='rating-big__value')\n",
    "    if rating:\n",
    "        rating = rating.text\n",
    "    \n",
    "    return {\n",
    "        'description': description,\n",
    "        'genres': genres,\n",
    "        'year': year,\n",
    "        'country': country,\n",
    "        'duration': duration,\n",
    "        'producer': producer,\n",
    "        'actors': actors,\n",
    "        'rating': rating,\n",
    "    }"
   ]
  },
  {
   "cell_type": "code",
   "execution_count": 76,
   "metadata": {},
   "outputs": [],
   "source": [
    "from pipetools import pipe\n",
    "\n",
    "flatten = lambda list_: [item for sublist in list_ for item in sublist]\n",
    "get_li_list = (pipe \n",
    "               | (map, lambda x: x.find_all('li', class_='lists__li'))\n",
    "               | list \n",
    "               | flatten\n",
    "              );"
   ]
  },
  {
   "cell_type": "code",
   "execution_count": 77,
   "metadata": {
    "tags": []
   },
   "outputs": [
    {
     "output_type": "stream",
     "name": "stdout",
     "text": [
      "Processing 100 of 100\n"
     ]
    }
   ],
   "source": [
    "from IPython.display import clear_output\n",
    "\n",
    "films = []\n",
    "ul_list = soup.find_all('ul', class_='list_afisha')\n",
    "li_list = get_li_list(ul_list)\n",
    "    \n",
    "\n",
    "for index, film in enumerate(li_list):\n",
    "    clear_output(wait=True)\n",
    "    print('Processing ' + str(index + 1) + ' of ' + str(len(li_list)))\n",
    "\n",
    "    a_name = film.find('a', class_='name')\n",
    "    img = film.find('img')\n",
    "\n",
    "    if not a_name:\n",
    "        continue\n",
    "    \n",
    "    link_to_film = a_name['href']\n",
    "\n",
    "    film_data = get_film_data(link_to_film)\n",
    "    \n",
    "    result = {\n",
    "        'name': a_name.text.strip(),\n",
    "        'img_url': img['src'],\n",
    "        'url': link_to_film,\n",
    "    }\n",
    "    result.update(film_data)\n",
    "\n",
    "    films.append(result)"
   ]
  },
  {
   "cell_type": "code",
   "execution_count": 78,
   "metadata": {
    "tags": []
   },
   "outputs": [],
   "source": [
    "import pandas as pd\n",
    "\n",
    "df_films = pd.DataFrame(films)"
   ]
  },
  {
   "cell_type": "code",
   "execution_count": 79,
   "metadata": {},
   "outputs": [
    {
     "output_type": "execute_result",
     "data": {
      "text/plain": [
       "                                              name  \\\n",
       "0                           Кольская сверхглубокая   \n",
       "1                              Подольские курсанты   \n",
       "2                               Кот под прикрытием   \n",
       "3                                  Побочный эффект   \n",
       "4                            Друзья на свою голову   \n",
       "..                                             ...   \n",
       "95                 Ночь в Лувре: Леонардо да Винчи   \n",
       "96  TheatreHD: Золотая маска: Иранская конференция   \n",
       "97           TheatreHD: Настоящая комедия (RU SUB)   \n",
       "98                          Нулевой канал (RU SUB)   \n",
       "99        TheatreHD: Мэтью Борн: Ромео и Джульетта   \n",
       "\n",
       "                                              img_url  \\\n",
       "0   https://img.afisha.tut.by/static/media/176x0ec...   \n",
       "1   https://img.afisha.tut.by/static/media/176x0ec...   \n",
       "2   https://img.afisha.tut.by/static/media/176x0ec...   \n",
       "3   https://img.afisha.tut.by/static/media/176x0ec...   \n",
       "4   https://img.afisha.tut.by/static/media/176x0ec...   \n",
       "..                                                ...   \n",
       "95  https://img.afisha.tut.by/static/media/176x0ec...   \n",
       "96  https://img.afisha.tut.by/static/media/176x0ec...   \n",
       "97  https://img.afisha.tut.by/static/media/176x0ec...   \n",
       "98  https://img.afisha.tut.by/static/media/176x0ec...   \n",
       "99  https://img.afisha.tut.by/static/media/176x0ec...   \n",
       "\n",
       "                                                  url  \\\n",
       "0   https://afisha.tut.by/film/kolskaya-sverkhglub...   \n",
       "1      https://afisha.tut.by/film/podolskie-kursanty/   \n",
       "2      https://afisha.tut.by/film/kot_pod_prikrytiem/   \n",
       "3   https://afisha.tut.by/film/pobochnyy_effekt_94...   \n",
       "4   https://afisha.tut.by/film/druzya_na_svoyu_gol...   \n",
       "..                                                ...   \n",
       "95  https://afisha.tut.by/film/noch_v_luvre_leonar...   \n",
       "96  https://afisha.tut.by/film/theatrehd_zolotaya_...   \n",
       "97  https://afisha.tut.by/film/theatrehd_nastoyash...   \n",
       "98  https://afisha.tut.by/film/nulevoy_kanal_zero_...   \n",
       "99  https://afisha.tut.by/film/theatrehd_metyu_bor...   \n",
       "\n",
       "                                          description  \\\n",
       "0   Кольская сверхглубокая скважина - самый масшта...   \n",
       "1   Фильм о подвиге подольских курсантов в октябре...   \n",
       "2                                                       \n",
       "3   Однажды в размеренную и счастливую жизнь архит...   \n",
       "4   Леа и Марк, Карин и Фрэнсис – две пары закадыч...   \n",
       "..                                                ...   \n",
       "95  Эксклюзивная ночная экскурсия по выставке «Лео...   \n",
       "96  Эта постановка по пьесе знаменитого драматурга...   \n",
       "97                                   Язык: английский   \n",
       "98  Фильм демонстрируется на языке оригинала с рус...   \n",
       "99  Спектакль демонстрируется на английском языке ...   \n",
       "\n",
       "                            genres  year         country duration  \\\n",
       "0                        [Триллер]  2020          Россия     None   \n",
       "1   [Военный, Драма, Исторический]  2019          Россия      132   \n",
       "2                    [Приключения]  2019            None       90   \n",
       "3                 [Триллер, Ужасы]  2020            None      100   \n",
       "4                        [Комедия]  2020            None      110   \n",
       "..                             ...   ...             ...      ...   \n",
       "95                [Документальный]  2020            None      100   \n",
       "96                            None  2020            None      120   \n",
       "97                            None  2019  Великобритания      160   \n",
       "98            [Приключения, Спорт]  2020            None      130   \n",
       "99                            None  2019            None       91   \n",
       "\n",
       "         producer                                             actors rating  \n",
       "0   Арсений Сюхин  [Милена Радулович, Никита Дювбанов, Кирилл Ков...    4,0  \n",
       "1    Вадим Шмелев  [Алексей Бардуков, Евгений Дятлов, Сергей Безр...   10,0  \n",
       "2            None                                                 []   10,0  \n",
       "3            None                                                 []   None  \n",
       "4            None                                                 []   None  \n",
       "..            ...                                                ...    ...  \n",
       "95           None                                                 []   None  \n",
       "96           None                                                 []   None  \n",
       "97           None                                                 []    7,5  \n",
       "98           None                                                 []   None  \n",
       "99           None                                                 []   None  \n",
       "\n",
       "[100 rows x 11 columns]"
      ],
      "text/html": "<div>\n<style scoped>\n    .dataframe tbody tr th:only-of-type {\n        vertical-align: middle;\n    }\n\n    .dataframe tbody tr th {\n        vertical-align: top;\n    }\n\n    .dataframe thead th {\n        text-align: right;\n    }\n</style>\n<table border=\"1\" class=\"dataframe\">\n  <thead>\n    <tr style=\"text-align: right;\">\n      <th></th>\n      <th>name</th>\n      <th>img_url</th>\n      <th>url</th>\n      <th>description</th>\n      <th>genres</th>\n      <th>year</th>\n      <th>country</th>\n      <th>duration</th>\n      <th>producer</th>\n      <th>actors</th>\n      <th>rating</th>\n    </tr>\n  </thead>\n  <tbody>\n    <tr>\n      <th>0</th>\n      <td>Кольская сверхглубокая</td>\n      <td>https://img.afisha.tut.by/static/media/176x0ec...</td>\n      <td>https://afisha.tut.by/film/kolskaya-sverkhglub...</td>\n      <td>Кольская сверхглубокая скважина - самый масшта...</td>\n      <td>[Триллер]</td>\n      <td>2020</td>\n      <td>Россия</td>\n      <td>None</td>\n      <td>Арсений Сюхин</td>\n      <td>[Милена Радулович, Никита Дювбанов, Кирилл Ков...</td>\n      <td>4,0</td>\n    </tr>\n    <tr>\n      <th>1</th>\n      <td>Подольские курсанты</td>\n      <td>https://img.afisha.tut.by/static/media/176x0ec...</td>\n      <td>https://afisha.tut.by/film/podolskie-kursanty/</td>\n      <td>Фильм о подвиге подольских курсантов в октябре...</td>\n      <td>[Военный, Драма, Исторический]</td>\n      <td>2019</td>\n      <td>Россия</td>\n      <td>132</td>\n      <td>Вадим Шмелев</td>\n      <td>[Алексей Бардуков, Евгений Дятлов, Сергей Безр...</td>\n      <td>10,0</td>\n    </tr>\n    <tr>\n      <th>2</th>\n      <td>Кот под прикрытием</td>\n      <td>https://img.afisha.tut.by/static/media/176x0ec...</td>\n      <td>https://afisha.tut.by/film/kot_pod_prikrytiem/</td>\n      <td></td>\n      <td>[Приключения]</td>\n      <td>2019</td>\n      <td>None</td>\n      <td>90</td>\n      <td>None</td>\n      <td>[]</td>\n      <td>10,0</td>\n    </tr>\n    <tr>\n      <th>3</th>\n      <td>Побочный эффект</td>\n      <td>https://img.afisha.tut.by/static/media/176x0ec...</td>\n      <td>https://afisha.tut.by/film/pobochnyy_effekt_94...</td>\n      <td>Однажды в размеренную и счастливую жизнь архит...</td>\n      <td>[Триллер, Ужасы]</td>\n      <td>2020</td>\n      <td>None</td>\n      <td>100</td>\n      <td>None</td>\n      <td>[]</td>\n      <td>None</td>\n    </tr>\n    <tr>\n      <th>4</th>\n      <td>Друзья на свою голову</td>\n      <td>https://img.afisha.tut.by/static/media/176x0ec...</td>\n      <td>https://afisha.tut.by/film/druzya_na_svoyu_gol...</td>\n      <td>Леа и Марк, Карин и Фрэнсис – две пары закадыч...</td>\n      <td>[Комедия]</td>\n      <td>2020</td>\n      <td>None</td>\n      <td>110</td>\n      <td>None</td>\n      <td>[]</td>\n      <td>None</td>\n    </tr>\n    <tr>\n      <th>...</th>\n      <td>...</td>\n      <td>...</td>\n      <td>...</td>\n      <td>...</td>\n      <td>...</td>\n      <td>...</td>\n      <td>...</td>\n      <td>...</td>\n      <td>...</td>\n      <td>...</td>\n      <td>...</td>\n    </tr>\n    <tr>\n      <th>95</th>\n      <td>Ночь в Лувре: Леонардо да Винчи</td>\n      <td>https://img.afisha.tut.by/static/media/176x0ec...</td>\n      <td>https://afisha.tut.by/film/noch_v_luvre_leonar...</td>\n      <td>Эксклюзивная ночная экскурсия по выставке «Лео...</td>\n      <td>[Документальный]</td>\n      <td>2020</td>\n      <td>None</td>\n      <td>100</td>\n      <td>None</td>\n      <td>[]</td>\n      <td>None</td>\n    </tr>\n    <tr>\n      <th>96</th>\n      <td>TheatreHD: Золотая маска: Иранская конференция</td>\n      <td>https://img.afisha.tut.by/static/media/176x0ec...</td>\n      <td>https://afisha.tut.by/film/theatrehd_zolotaya_...</td>\n      <td>Эта постановка по пьесе знаменитого драматурга...</td>\n      <td>None</td>\n      <td>2020</td>\n      <td>None</td>\n      <td>120</td>\n      <td>None</td>\n      <td>[]</td>\n      <td>None</td>\n    </tr>\n    <tr>\n      <th>97</th>\n      <td>TheatreHD: Настоящая комедия (RU SUB)</td>\n      <td>https://img.afisha.tut.by/static/media/176x0ec...</td>\n      <td>https://afisha.tut.by/film/theatrehd_nastoyash...</td>\n      <td>Язык: английский</td>\n      <td>None</td>\n      <td>2019</td>\n      <td>Великобритания</td>\n      <td>160</td>\n      <td>None</td>\n      <td>[]</td>\n      <td>7,5</td>\n    </tr>\n    <tr>\n      <th>98</th>\n      <td>Нулевой канал (RU SUB)</td>\n      <td>https://img.afisha.tut.by/static/media/176x0ec...</td>\n      <td>https://afisha.tut.by/film/nulevoy_kanal_zero_...</td>\n      <td>Фильм демонстрируется на языке оригинала с рус...</td>\n      <td>[Приключения, Спорт]</td>\n      <td>2020</td>\n      <td>None</td>\n      <td>130</td>\n      <td>None</td>\n      <td>[]</td>\n      <td>None</td>\n    </tr>\n    <tr>\n      <th>99</th>\n      <td>TheatreHD: Мэтью Борн: Ромео и Джульетта</td>\n      <td>https://img.afisha.tut.by/static/media/176x0ec...</td>\n      <td>https://afisha.tut.by/film/theatrehd_metyu_bor...</td>\n      <td>Спектакль демонстрируется на английском языке ...</td>\n      <td>None</td>\n      <td>2019</td>\n      <td>None</td>\n      <td>91</td>\n      <td>None</td>\n      <td>[]</td>\n      <td>None</td>\n    </tr>\n  </tbody>\n</table>\n<p>100 rows × 11 columns</p>\n</div>"
     },
     "metadata": {},
     "execution_count": 79
    }
   ],
   "source": [
    "df_films"
   ]
  }
 ],
 "metadata": {
  "kernelspec": {
   "display_name": "Python 3",
   "language": "python",
   "name": "python3"
  },
  "language_info": {
   "codemirror_mode": {
    "name": "ipython",
    "version": 3
   },
   "file_extension": ".py",
   "mimetype": "text/x-python",
   "name": "python",
   "nbconvert_exporter": "python",
   "pygments_lexer": "ipython3",
   "version": "3.8.3-final"
  }
 },
 "nbformat": 4,
 "nbformat_minor": 2
}